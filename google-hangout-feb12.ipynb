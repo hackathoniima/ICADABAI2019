{
 "cells": [
  {
   "cell_type": "markdown",
   "metadata": {},
   "source": [
    "Thanks everyone for joining the google hangout on Feb 12, 2019 at 5 PM.  \n",
    "\n",
    "This is a short demo to explain the code given in create_submission.py. Before that we'll answer couple of questions that were asked in the session.\n",
    "\n",
    "Q1: Do we have to submit the code?\n",
    "\n",
    "No, we only need the json containing the solution. create_submission.py script can help create the solution json file. While most of you will be trying programmatic approaches, it is perfectly fine to use crowdsourcing or BRAT tool to annotate the data too.\n",
    "\n",
    "Q2: What should the output file contain?\n",
    "\n",
    "It should be a json file containing a list of json elements, where each element corresponds to 1 sentence in the dataset.json input file. For each sentence, you have to provide a rewritten sentence (text), imputed entity (the one you used to replace XXXX), and the type(s) of the entity. Please use the create_submission.py to generate this."
   ]
  },
  {
   "cell_type": "code",
   "execution_count": 5,
   "metadata": {},
   "outputs": [],
   "source": [
    "import json\n",
    "import random\n",
    "import re"
   ]
  },
  {
   "cell_type": "code",
   "execution_count": 6,
   "metadata": {},
   "outputs": [],
   "source": [
    "# this is the input file. it's a good idea to take a look.\n",
    "dataset_filename = \"./dataset.json\"\n",
    "with open(dataset_filename, 'r') as f:\n",
    "    data = json.load(f)"
   ]
  },
  {
   "cell_type": "code",
   "execution_count": 7,
   "metadata": {},
   "outputs": [
    {
     "name": "stdout",
     "output_type": "stream",
     "text": [
      "30916\n"
     ]
    }
   ],
   "source": [
    "print(len(data))"
   ]
  },
  {
   "cell_type": "code",
   "execution_count": 8,
   "metadata": {},
   "outputs": [],
   "source": [
    "# for analyzing, enough to look at only 10 rows\n",
    "data = data[0:10]"
   ]
  },
  {
   "cell_type": "code",
   "execution_count": 9,
   "metadata": {},
   "outputs": [
    {
     "name": "stdout",
     "output_type": "stream",
     "text": [
      "10\n"
     ]
    }
   ],
   "source": [
    "print(len(data))"
   ]
  },
  {
   "cell_type": "code",
   "execution_count": 10,
   "metadata": {},
   "outputs": [
    {
     "name": "stdout",
     "output_type": "stream",
     "text": [
      "Let me explain to you why I believe this : For years, SunTrust advertised and promoted in big letters their XXXX XXXX debit card.\n",
      "With that card, an account holder could earn XXXX mile for every {$1.00} spent ( for debit and credit card transactions ).\n",
      "Over the past XXXX months, SunTrust must have reviewed their debit card portfolio and what they did as a result of their review is shocking : They closed all account holders who had earned above average number of miles regardless of the types of products they purchased, regardless of the length of their relationship with SunTrust, and regardless of the amount of money in their checking accounts.\n",
      "After banking with Citibank for over 3 years, I discovered this evening that I could not use my debit card despite having a Citibank verified balance of {$900.00}. When I called Citibank, I was informed that the Texas branches had been bought by XXXX XXXX XXXX and as such, they, Citibank, could not allow access to my account.\n",
      "I used to work for the XXXX XXXX XXXX XXXX and they call their customers because a {$1.00} coffee.\n",
      "After that call she informed me that the bank had a policy of not exchanging XXXX with a value of less than {$100.00} U.S.\n",
      "In response, I told this associate that I inquired about returning XXXX when I picked it up, and no one told me about this requirement.\n",
      "He told me that he checked out my exchange issue, and found that PNC had a policy of not exchanging XXXX with a value of less than {$100.00} U.S., and they could not make exceptions to this policy.\n",
      "I told XXXX that I viewed this failure as additional negligence on the part of the bank.\n",
      "They left me hanging for the fourth - XXXX XXXX confections and told me I was on my own, but provided me no details of the transaction.\n"
     ]
    }
   ],
   "source": [
    "for text in data:\n",
    "    print(text)"
   ]
  },
  {
   "cell_type": "code",
   "execution_count": 11,
   "metadata": {},
   "outputs": [],
   "source": [
    "# lets take a look at the types.\n",
    "\n",
    "pde_types_filename = \"./types.json\"\n",
    "pde_types_list = []\n",
    "with open(pde_types_filename, \"r\") as f:\n",
    "    pde_types = json.load(f)\n",
    "pde_types_list = pde_types['pde_types']"
   ]
  },
  {
   "cell_type": "code",
   "execution_count": 12,
   "metadata": {},
   "outputs": [
    {
     "name": "stdout",
     "output_type": "stream",
     "text": [
      "/location\n",
      "/location/address\n",
      "/location/city\n",
      "/location/zipcode\n",
      "/finance/credit_score\n",
      "/contact/name\n",
      "/contact/email_address\n",
      "/contact/phonenumber\n",
      "/id/account_number\n",
      "/id/us_social_security_number\n",
      "/id/credit_card_number\n",
      "/interest/product\n",
      "/bio/age\n",
      "/profession/job_title\n",
      "/other/number\n",
      "/other/datetime\n",
      "/other/datetime/date\n",
      "/other/datetime/month\n",
      "/other/datetime/year\n",
      "/other/organization\n",
      "/other/organization/company\n"
     ]
    }
   ],
   "source": [
    "for pdet in pde_types_list:\n",
    "    print(pdet)"
   ]
  },
  {
   "cell_type": "code",
   "execution_count": 13,
   "metadata": {},
   "outputs": [],
   "source": [
    "# the below is just copied from the create_submission.py\n",
    "\n",
    "\n",
    "# this is not a complete list of patterns that you may find in original data (see ./additional_data)\n",
    "# but we have chosen only these in the dataset for the hackathon\n",
    "patterns = [r' XXXX XXXX XXXX XXXX', r'XXXX XXXX XXXX', r'XXXX XXXX', r'XXXX', r'XX/XX/XXXX', r'XX/XX/']\n",
    "regex_patterns = '|'.join(patterns)\n",
    "\n",
    "json_output = []\n",
    "i = 1\n",
    "for text in data:\n",
    "    json_element = {}\n",
    "\n",
    "    # we're using a simple regex pattern to find the redacted mentions\n",
    "    mentions = re.findall(regex_patterns, text)\n",
    "    if (len(mentions) != 1):\n",
    "        print(\"Error! Only one entity mention per sentence should be present.\")\n",
    "        print(mentions)\n",
    "        continue\n",
    "    mention = mentions[0]\n",
    "\n",
    "    ######### ENTITIES FOR DEMO - REPLACE THIS ##########\n",
    "    entity = \"entity_\" + str(i)\n",
    "    ######### ENTITIES FOR DEMO - REPLACE THIS ##########\n",
    "\n",
    "    json_element['input_text'] = text\n",
    "    json_element['text'] = text.replace(mention, entity)\n",
    "    json_element[\"entity\"] = entity\n",
    "\n",
    "    ######### TYPES FOR DEMO - REPLACE THIS ##########\n",
    "    # this are just some fake types that we are creating, you should remove all this\n",
    "    rand_int = random.randint(0, len(pde_types_list)) - 1\n",
    "    types = pde_types_list[rand_int]\n",
    "    # typically parents of the types also apply to the entity, hence adding here\n",
    "    if rand_int > 5:\n",
    "       for pdet in pde_types:\n",
    "          if pdet in types:\n",
    "             types += \" \" + pdet\n",
    "    # sometimes types from different branches in the hierarchy can apply to an entity\n",
    "    if rand_int > 15:\n",
    "        rand_int = random.randint(0, len(pde_types_list)) - 1\n",
    "        another_type = pde_types_list[rand_int]\n",
    "        if another_type not in types:\n",
    "            types += \" \" + another_type\n",
    "    ######### TYPES FOR DEMO - REPLACE THIS ##########\n",
    "\n",
    "    json_element[\"types\"] = types\n",
    "    json_output.append(json_element)\n",
    "i += 1"
   ]
  },
  {
   "cell_type": "code",
   "execution_count": 14,
   "metadata": {},
   "outputs": [
    {
     "name": "stdout",
     "output_type": "stream",
     "text": [
      "Let me explain to you why I believe this : For years, SunTrust advertised and promoted in big letters their XXXX XXXX debit card.\n",
      "Let me explain to you why I believe this : For years, SunTrust advertised and promoted in big letters their entity_1 debit card.\n",
      "entity_1\n",
      "/finance/credit_score\n",
      "\n",
      "\n",
      "With that card, an account holder could earn XXXX mile for every {$1.00} spent ( for debit and credit card transactions ).\n",
      "With that card, an account holder could earn entity_1 mile for every {$1.00} spent ( for debit and credit card transactions ).\n",
      "entity_1\n",
      "/other/datetime/date /finance/credit_score\n",
      "\n",
      "\n",
      "Over the past XXXX months, SunTrust must have reviewed their debit card portfolio and what they did as a result of their review is shocking : They closed all account holders who had earned above average number of miles regardless of the types of products they purchased, regardless of the length of their relationship with SunTrust, and regardless of the amount of money in their checking accounts.\n",
      "Over the past entity_1 months, SunTrust must have reviewed their debit card portfolio and what they did as a result of their review is shocking : They closed all account holders who had earned above average number of miles regardless of the types of products they purchased, regardless of the length of their relationship with SunTrust, and regardless of the amount of money in their checking accounts.\n",
      "entity_1\n",
      "/other/datetime/year\n",
      "\n",
      "\n",
      "After banking with Citibank for over 3 years, I discovered this evening that I could not use my debit card despite having a Citibank verified balance of {$900.00}. When I called Citibank, I was informed that the Texas branches had been bought by XXXX XXXX XXXX and as such, they, Citibank, could not allow access to my account.\n",
      "After banking with Citibank for over 3 years, I discovered this evening that I could not use my debit card despite having a Citibank verified balance of {$900.00}. When I called Citibank, I was informed that the Texas branches had been bought by entity_1 and as such, they, Citibank, could not allow access to my account.\n",
      "entity_1\n",
      "/location/city\n",
      "\n",
      "\n",
      "I used to work for the XXXX XXXX XXXX XXXX and they call their customers because a {$1.00} coffee.\n",
      "I used to work for theentity_1 and they call their customers because a {$1.00} coffee.\n",
      "entity_1\n",
      "/location/address\n",
      "\n",
      "\n",
      "After that call she informed me that the bank had a policy of not exchanging XXXX with a value of less than {$100.00} U.S.\n",
      "After that call she informed me that the bank had a policy of not exchanging entity_1 with a value of less than {$100.00} U.S.\n",
      "entity_1\n",
      "/location/city\n",
      "\n",
      "\n",
      "In response, I told this associate that I inquired about returning XXXX when I picked it up, and no one told me about this requirement.\n",
      "In response, I told this associate that I inquired about returning entity_1 when I picked it up, and no one told me about this requirement.\n",
      "entity_1\n",
      "/other/organization/company\n",
      "\n",
      "\n",
      "He told me that he checked out my exchange issue, and found that PNC had a policy of not exchanging XXXX with a value of less than {$100.00} U.S., and they could not make exceptions to this policy.\n",
      "He told me that he checked out my exchange issue, and found that PNC had a policy of not exchanging entity_1 with a value of less than {$100.00} U.S., and they could not make exceptions to this policy.\n",
      "entity_1\n",
      "/finance/credit_score\n",
      "\n",
      "\n",
      "I told XXXX that I viewed this failure as additional negligence on the part of the bank.\n",
      "I told entity_1 that I viewed this failure as additional negligence on the part of the bank.\n",
      "entity_1\n",
      "/bio/age\n",
      "\n",
      "\n",
      "They left me hanging for the fourth - XXXX XXXX confections and told me I was on my own, but provided me no details of the transaction.\n",
      "They left me hanging for the fourth - entity_1 confections and told me I was on my own, but provided me no details of the transaction.\n",
      "entity_1\n",
      "/location\n",
      "\n",
      "\n"
     ]
    }
   ],
   "source": [
    "for json_element in json_output:\n",
    "    print(json_element['input_text'])\n",
    "    print(json_element['text'])\n",
    "    print(json_element['entity'])\n",
    "    print(json_element['types'])\n",
    "    print(\"\\n\")"
   ]
  },
  {
   "cell_type": "code",
   "execution_count": 15,
   "metadata": {},
   "outputs": [
    {
     "name": "stdout",
     "output_type": "stream",
     "text": [
      "With that card, an account holder could earn XXXX mile for every {$1.00} spent ( for debit and credit card transactions ).\n",
      "With that card, an account holder could earn 9 mile for every {$1.00} spent ( for debit and credit card transactions ).\n",
      "I told XXXX that I viewed this failure as additional negligence on the part of the bank.\n",
      "I told Balaji that I viewed this failure as additional negligence on the part of the bank.\n"
     ]
    }
   ],
   "source": [
    "# now let's see a quick and dirty way to annotate couple of sentences.\n",
    "\n",
    "# you are expected to come with more rules like this, or use data programming (snorker)\n",
    "# or use Machine Learning as per your convenience\n",
    "\n",
    "for text in data:\n",
    "    mentions = re.findall(\"XXXX mile|told XXXX\", text)\n",
    "    if(len(mentions) > 0):\n",
    "        print(text)\n",
    "        for mention in mentions:\n",
    "            text = text.replace(\"XXXX mile\", \"9 mile\")\n",
    "            text = text.replace(\"told XXXX\", \"told Balaji\")\n",
    "            print(text)"
   ]
  },
  {
   "cell_type": "code",
   "execution_count": null,
   "metadata": {},
   "outputs": [],
   "source": []
  }
 ],
 "metadata": {
  "kernelspec": {
   "display_name": "Python 3",
   "language": "python",
   "name": "python3"
  },
  "language_info": {
   "codemirror_mode": {
    "name": "ipython",
    "version": 3
   },
   "file_extension": ".py",
   "mimetype": "text/x-python",
   "name": "python",
   "nbconvert_exporter": "python",
   "pygments_lexer": "ipython3",
   "version": "3.6.6"
  }
 },
 "nbformat": 4,
 "nbformat_minor": 2
}
